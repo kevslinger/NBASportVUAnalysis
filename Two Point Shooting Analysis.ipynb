{
 "cells": [
  {
   "cell_type": "code",
   "execution_count": 2,
   "metadata": {},
   "outputs": [],
   "source": [
    "import pandas as pd\n",
    "import numpy as np\n",
    "import math"
   ]
  },
  {
   "cell_type": "code",
   "execution_count": 1,
   "metadata": {},
   "outputs": [],
   "source": [
    "#Directory where the game(s) are stored. Change this for your system.\n",
    "DATAPATH = '../../Volumes/KevSSDRive/NBA/data/csv/merged/'"
   ]
  },
  {
   "cell_type": "code",
   "execution_count": 184,
   "metadata": {},
   "outputs": [],
   "source": [
    "def find_shot_starts(gameid):\n",
    "    print gameid\n",
    "    #Load the game and reduce it to plays which the pbp data says are shots\n",
    "    try:\n",
    "        df = pd.read_csv(DATAPATH+'merged_{}.csv'.format(gameid), low_memory=False)\n",
    "    except IOError:\n",
    "        return 0\n",
    "    #Create a copy dataFrame which only includes the ball -- playerid = -1\n",
    "    df_ball = pd.DataFrame(df, copy=True)\n",
    "    df_ball = df_ball[df_ball['player_id'] == -1]\n",
    "    #Reduce the dataframe down to shots -- EVENTMSGTYPE = 1 indicates a made shot and EVENTMSGTYPE = 2 indicates a missed shot\n",
    "    df_ball = df_ball[(df_ball['EVENTMSGTYPE'] == 1) | (df_ball['EVENTMSGTYPE'] == 2)]\n",
    "    #Add a shot distance column to find the xy distance from the hoop\n",
    "    df_ball['shotdist'] = 0.0\n",
    "    df_ball.reset_index(drop=True, inplace=True)\n",
    "    #Add distance of the ball from the basket\n",
    "    for row in range(len(df_ball)):\n",
    "        x_loc = df_ball['x_loc'].iloc[row]\n",
    "        if x_loc < 47:\n",
    "            #XY distance to the left-half basket \n",
    "            df_ball.set_value(row, 'shotdist', (math.sqrt(math.pow((x_loc - 5.25), 2) + \n",
    "                                                            math.pow((df_ball['y_loc'].iloc[row] - 25), 2)))) \n",
    "        else:\n",
    "            #XY distance to the right-half basket\n",
    "            df_ball.set_value(row, 'shotdist', (math.sqrt(math.pow((x_loc - 88.75), 2) + \n",
    "                                                            math.pow((df_ball['y_loc'].iloc[row] - 25), 2))))\n",
    "    #Determine a 'cylinder' value -- Ball needs to be above cylinder to go in the hoop\n",
    "    #If the ball is at least 9 feet in the air (radius) and within 2 feet of the center of the hoop, it's near the cylinder.\n",
    "    for row in range(len(df_ball)):\n",
    "        x_loc = df_ball['x_loc'].iloc[row]\n",
    "        if x_loc < 47:\n",
    "            #XY distance to the basket\n",
    "            df_ball.set_value(row, 'cylinder', 1 if ((math.sqrt(math.pow((x_loc - 5.25), 2) + \n",
    "                                                            math.pow((df_ball['y_loc'].iloc[row] - 25), 2)) <= 2) \n",
    "                                                    & (df_ball['radius'].iloc[row] >= 9)) \n",
    "                              else 0)\n",
    "        else:\n",
    "            #XY distance to the basket\n",
    "            df_ball.set_value(row, 'cylinder', 1 if ((math.sqrt(math.pow((x_loc - 88.75), 2) + \n",
    "                                                            math.pow((df_ball['y_loc'].iloc[row] - 25), 2)) <= 2)\n",
    "                                                    & (df_ball['radius'].iloc[row] >= 9)) \n",
    "                              else 0)\n",
    "\n",
    "    df_ball['shooting'] = 0\n",
    "    #Ball needs to be moving towards the hoop for it to be in a shot\n",
    "    for row in range(1, len(df_ball)):\n",
    "        if (df_ball['radius'].iloc[row] >= df_ball['radius'].iloc[row-1]) | (df_ball['radius'].iloc[row] >= 10):\n",
    "            df_ball.set_value(row, 'shooting', 1)\n",
    "    #Determines the start of the shot\n",
    "    df_ball['SHOT_START'] = 0\n",
    "    for row in range(1, len(df_ball)):\n",
    "        if df_ball['shooting'].iloc[row] == 1:\n",
    "            if df_ball['shooting'].iloc[row-1] == 0:\n",
    "                start = row\n",
    "        \n",
    "            if df_ball['cylinder'].iloc[row] == 1 and df_ball['cylinder'].iloc[row-1] != 1:\n",
    "                for backtrack in range(start, row):\n",
    "                    if df_ball['radius'].iloc[backtrack] >= 7:\n",
    "                        df_ball.set_value(backtrack, 'SHOT_START', 1)\n",
    "                        break\n",
    "    #df_shot_start is the dataFrame containing only the (x,y) coordinates of all the ball at the beginning of the shot\n",
    "    df_shot_start = pd.DataFrame(df_ball,copy=True)\n",
    "    #df_shot_start.to_csv('../../Volumes/KevSSDrive/NBA/data/csv/shooting/{}.csv'.format(gameid), index=False)\n",
    "    df_shot_start = df_shot_start[df_shot_start['SHOT_START']==1]\n",
    "    #df_total is where we merge in the other 10 players\n",
    "    df_total = pd.DataFrame()\n",
    "    for i in range(len(df_shot_start)):\n",
    "        df_play = pd.DataFrame(df, copy=True)\n",
    "        game_clock = df_shot_start['game_clock'].iloc[i]\n",
    "        df_play = df_play[df_play['quarter'] == df_shot_start['quarter'].iloc[i]]\n",
    "        df_play = df_play[df_play['game_clock'] == game_clock]\n",
    "        df_play['play_id'] = i+1\n",
    "        df_play['shotdist'] = df_shot_start['shotdist'].iloc[i]\n",
    "        df_total = df_total.append(df_play, ignore_index=True)\n",
    "        df_total.drop_duplicates(subset=['player_id', 'quarter', 'game_clock'], inplace=True)\n",
    "        #df_total.sort_values(by=['quarter', 'game_clock'], ascending=[True, False], inplace=True)\n",
    "    df_total = df_total[(df_total.EVENTMSGTYPE == 1) | (df_total.EVENTMSGTYPE == 2)]\n",
    "    df_total.reset_index(drop=True, inplace=True)\n",
    "    df_total.to_csv('../../Volumes/KevSSDrive/NBA/data/csv/shot_start/{}.csv'.format(gameid),index=False)"
   ]
  },
  {
   "cell_type": "code",
   "execution_count": 187,
   "metadata": {},
   "outputs": [
    {
     "name": "stdout",
     "output_type": "stream",
     "text": [
      "0021500660\n",
      "0021500661\n",
      "0021500662\n",
      "0021500663\n"
     ]
    }
   ],
   "source": [
    "for game in range(21500001, 21500664):\n",
    "    game = '00' + str(game)\n",
    "    find_shot_starts(game)"
   ]
  },
  {
   "cell_type": "code",
   "execution_count": null,
   "metadata": {},
   "outputs": [],
   "source": []
  }
 ],
 "metadata": {
  "kernelspec": {
   "display_name": "Python 2",
   "language": "python",
   "name": "python2"
  },
  "language_info": {
   "codemirror_mode": {
    "name": "ipython",
    "version": 2
   },
   "file_extension": ".py",
   "mimetype": "text/x-python",
   "name": "python",
   "nbconvert_exporter": "python",
   "pygments_lexer": "ipython2",
   "version": "2.7.14"
  }
 },
 "nbformat": 4,
 "nbformat_minor": 2
}
